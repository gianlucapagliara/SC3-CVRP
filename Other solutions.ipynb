{
 "cells": [
  {
   "cell_type": "markdown",
   "metadata": {
    "colab_type": "text",
    "id": "6zQVhQqP8gBW"
   },
   "source": [
    "# Other solutions"
   ]
  },
  {
   "cell_type": "markdown",
   "metadata": {},
   "source": [
    "In questo notebook si effettua il confronto fra le varie soluzioni che sono state sperimentate prima di concludere che l'SC3 fosse il migliore."
   ]
  },
  {
   "cell_type": "markdown",
   "metadata": {
    "colab_type": "text",
    "id": "Cbqt2Xc88gBa"
   },
   "source": [
    "## Dependencies"
   ]
  },
  {
   "cell_type": "code",
   "execution_count": 1,
   "metadata": {
    "colab": {},
    "colab_type": "code",
    "id": "L_dsaRBY8gBj"
   },
   "outputs": [],
   "source": [
    "import pandas as pd\n",
    "from haversine import haversine\n",
    "from utils.utils import get_config_from_yaml, load_data, filter_by_level\n",
    "from utils.simulation import Simulation\n",
    "from utils.distances import slender_distance\n",
    "from routing.googlerouting import GoogleRouting\n",
    "from routing.geneticalgorithmgraph import GAGraph\n",
    "from clustering.adjustedkmeans import AdjustedKMeans"
   ]
  },
  {
   "cell_type": "markdown",
   "metadata": {},
   "source": [
    "## Configuration loading"
   ]
  },
  {
   "cell_type": "code",
   "execution_count": 2,
   "metadata": {},
   "outputs": [],
   "source": [
    "YAML = \"configs/example.yaml\"\n",
    "\n",
    "config = get_config_from_yaml(YAML)\n",
    "depot = [config.depot.latitude, config.depot.longitude]\n",
    "start_date = pd.to_datetime(config.data.period.start_date)\n",
    "end_date = pd.to_datetime(config.data.period.end_date)"
   ]
  },
  {
   "cell_type": "markdown",
   "metadata": {},
   "source": [
    "## Data loading and preprocessing"
   ]
  },
  {
   "cell_type": "code",
   "execution_count": 3,
   "metadata": {},
   "outputs": [],
   "source": [
    "data = load_data(config.data.file_path)\n",
    "data = data[config.data.period.start_date: config.data.period.end_date]"
   ]
  },
  {
   "cell_type": "markdown",
   "metadata": {},
   "source": [
    "## Test"
   ]
  },
  {
   "cell_type": "code",
   "execution_count": 4,
   "metadata": {},
   "outputs": [],
   "source": [
    "def run_simulation(config, name):\n",
    "    simulation = Simulation(depot, config, window_size=6, max_size=200,\n",
    "                            filter_function=filter_by_level, filter_kwargs={})\n",
    "    routes = simulation.compute_simulation(data, pd.to_datetime(start_date), pd.to_datetime(end_date), speed=30, emp_time=60, debug=False)\n",
    "    simulation.print_simulation()\n",
    "    simulation.to_csv(f'output/{name}.csv')\n"
   ]
  },
  {
   "cell_type": "markdown",
   "metadata": {},
   "source": [
    "### Baseline: Standard k-Means + Christofides"
   ]
  },
  {
   "cell_type": "code",
   "execution_count": 5,
   "metadata": {},
   "outputs": [
    {
     "name": "stdout",
     "output_type": "stream",
     "text": [
      "# Simulation #\n",
      "Shifts executed: 120.\n",
      "Total distance: 19222.724620000008 km.\n",
      "Bins emptied: 130845.\n",
      "Vehicles involved: 709.\n"
     ]
    }
   ],
   "source": [
    "kmeans_kwargs = {\n",
    "    'max_size' : 200,\n",
    "    'balanced': False,\n",
    "    'distance': lambda p1, p2 : slender_distance(p1, p2, depot, 0, 1),\n",
    "}\n",
    "\n",
    "routing_kwargs = {\n",
    "    'distance_function': haversine,\n",
    "    'vehicle_capacities': 200,\n",
    "    'num_vehicles': 1,\n",
    "}\n",
    "\n",
    "baseline_config = {\n",
    "  'cluster_class': AdjustedKMeans,\n",
    "  'cluster_kwargs': kmeans_kwargs,\n",
    "  'graph_class': GoogleRouting,\n",
    "  'graph_kwargs': routing_kwargs,\n",
    "}\n",
    "\n",
    "run_simulation(baseline_config, 'Baseline')"
   ]
  },
  {
   "cell_type": "markdown",
   "metadata": {},
   "source": [
    "### Google Routing"
   ]
  },
  {
   "cell_type": "code",
   "execution_count": 6,
   "metadata": {},
   "outputs": [
    {
     "name": "stdout",
     "output_type": "stream",
     "text": [
      "# Simulation #\n",
      "Shifts executed: 120.\n",
      "Total distance: 18661.584350000012 km.\n",
      "Bins emptied: 130845.\n",
      "Vehicles involved: 709.\n"
     ]
    }
   ],
   "source": [
    "GR_kwargs = {\n",
    "    'distance_function': haversine,\n",
    "    'vehicle_capacities': 200,\n",
    "    'num_vehicles': 20,\n",
    "}\n",
    "\n",
    "GR_config = {\n",
    "  'cluster_class': None,\n",
    "  'cluster_kwargs': {},\n",
    "  'graph_class': GoogleRouting,\n",
    "  'graph_kwargs': GR_kwargs,\n",
    "}\n",
    "\n",
    "run_simulation(GR_config, 'GoogleRouting')"
   ]
  },
  {
   "cell_type": "markdown",
   "metadata": {},
   "source": [
    "### SC2G - Shape-Controlled Clustering + Genetic algorithm"
   ]
  },
  {
   "cell_type": "code",
   "execution_count": 7,
   "metadata": {},
   "outputs": [
    {
     "name": "stdout",
     "output_type": "stream",
     "text": [
      "# Simulation #\n",
      "Shifts executed: 120.\n",
      "Total distance: 18706.83744 km.\n",
      "Bins emptied: 130845.\n",
      "Vehicles involved: 709.\n"
     ]
    }
   ],
   "source": [
    "clustering_kwargs = {\n",
    "    'max_size' : 200,\n",
    "    'balanced': True,\n",
    "    'distance': lambda p1, p2 : slender_distance(p1, p2, depot, 1, 0),\n",
    "}\n",
    "\n",
    "# GA settings\n",
    "pop_size = 500\n",
    "elite_size = int(0.05*pop_size)\n",
    "mutation_rate = 0.1\n",
    "generations = 200\n",
    "\n",
    "GA_kwargs = {\n",
    "    'pop_size': pop_size,\n",
    "    'elite_size': elite_size, \n",
    "    'mutation_rate': mutation_rate,\n",
    "    'generations': generations,\n",
    "    'metric': 'km',\n",
    "}\n",
    "\n",
    "SC2G_config = {\n",
    "  'cluster_class': AdjustedKMeans,\n",
    "  'cluster_kwargs': clustering_kwargs,\n",
    "  'graph_class': GAGraph,\n",
    "  'graph_kwargs': GA_kwargs,\n",
    "}\n",
    "\n",
    "run_simulation(SC2G_config, 'SC2G')"
   ]
  },
  {
   "cell_type": "markdown",
   "metadata": {},
   "source": [
    "### SC3 bilanciato"
   ]
  },
  {
   "cell_type": "code",
   "execution_count": 8,
   "metadata": {},
   "outputs": [
    {
     "name": "stdout",
     "output_type": "stream",
     "text": [
      "# Simulation #\n",
      "Shifts executed: 120.\n",
      "Total distance: 17790.80992 km.\n",
      "Bins emptied: 130845.\n",
      "Vehicles involved: 709.\n"
     ]
    }
   ],
   "source": [
    "clustering_balanced = {\n",
    "    'max_size' : 200,\n",
    "    'balanced': True,\n",
    "    'distance': lambda p1, p2 : slender_distance(p1, p2, depot, 1, 0),\n",
    "}\n",
    "\n",
    "routing_kwargs = {\n",
    "    'distance_function': haversine,\n",
    "    'vehicle_capacities': 200,\n",
    "    'num_vehicles': 1,\n",
    "}\n",
    "\n",
    "SC3_balanced_config = {\n",
    "  'cluster_class': AdjustedKMeans,\n",
    "  'cluster_kwargs': clustering_kwargs,\n",
    "  'graph_class': GoogleRouting,\n",
    "  'graph_kwargs': routing_kwargs,\n",
    "}\n",
    "\n",
    "run_simulation(SC3_balanced_config, 'SC3Balanced')"
   ]
  }
 ],
 "metadata": {
  "interpreter": {
   "hash": "b4edde9017104a03036cc62142b4c4a88cfee967b52c4110898afedb5ec92ab3"
  },
  "kernelspec": {
   "display_name": "Python 3.8.10 64-bit ('base': conda)",
   "name": "python3"
  },
  "language_info": {
   "codemirror_mode": {
    "name": "ipython",
    "version": 3
   },
   "file_extension": ".py",
   "mimetype": "text/x-python",
   "name": "python",
   "nbconvert_exporter": "python",
   "pygments_lexer": "ipython3",
   "version": "3.8.10"
  }
 },
 "nbformat": 4,
 "nbformat_minor": 4
}
