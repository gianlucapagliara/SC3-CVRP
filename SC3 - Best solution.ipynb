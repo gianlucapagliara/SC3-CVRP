{
 "cells": [
  {
   "cell_type": "markdown",
   "metadata": {},
   "source": [
    "# SC3 - Shape-Controlled Clustering and Christofides algorithm"
   ]
  },
  {
   "cell_type": "markdown",
   "metadata": {},
   "source": [
    "Execution example of the *Shape-Controlled Clustering and Christofides algorithm* (*SC3*)."
   ]
  },
  {
   "cell_type": "markdown",
   "metadata": {},
   "source": [
    "## Dependencies"
   ]
  },
  {
   "cell_type": "code",
   "execution_count": 1,
   "metadata": {},
   "outputs": [],
   "source": [
    "import pandas as pd\n",
    "from haversine import haversine\n",
    "from utils.utils import get_config_from_yaml, load_data, filter_by_level\n",
    "from utils.simulation import Simulation\n",
    "from utils.distances import slender_distance\n",
    "from routing.googlerouting import GoogleRouting\n",
    "from clustering.adjustedkmeans import AdjustedKMeans"
   ]
  },
  {
   "cell_type": "markdown",
   "metadata": {},
   "source": [
    "## Configuration loading"
   ]
  },
  {
   "cell_type": "code",
   "execution_count": 2,
   "metadata": {},
   "outputs": [],
   "source": [
    "YAML = \"configs/example.yaml\"\n",
    "\n",
    "config = get_config_from_yaml(YAML)\n",
    "depot = [config.depot.latitude, config.depot.longitude]\n",
    "start_date = pd.to_datetime(config.data.period.start_date)\n",
    "end_date = pd.to_datetime(config.data.period.end_date)"
   ]
  },
  {
   "cell_type": "markdown",
   "metadata": {},
   "source": [
    "## Data loading and preprocessing"
   ]
  },
  {
   "cell_type": "code",
   "execution_count": 3,
   "metadata": {},
   "outputs": [
    {
     "data": {
      "text/html": [
       "<div>\n",
       "<style scoped>\n",
       "    .dataframe tbody tr th:only-of-type {\n",
       "        vertical-align: middle;\n",
       "    }\n",
       "\n",
       "    .dataframe tbody tr th {\n",
       "        vertical-align: top;\n",
       "    }\n",
       "\n",
       "    .dataframe thead th {\n",
       "        text-align: right;\n",
       "    }\n",
       "</style>\n",
       "<table border=\"1\" class=\"dataframe\">\n",
       "  <thead>\n",
       "    <tr style=\"text-align: right;\">\n",
       "      <th></th>\n",
       "      <th>bin_serial</th>\n",
       "      <th>bin_level</th>\n",
       "      <th>occluded</th>\n",
       "      <th>outdoor</th>\n",
       "      <th>latitude</th>\n",
       "      <th>longitude</th>\n",
       "    </tr>\n",
       "    <tr>\n",
       "      <th>detected_at</th>\n",
       "      <th></th>\n",
       "      <th></th>\n",
       "      <th></th>\n",
       "      <th></th>\n",
       "      <th></th>\n",
       "      <th></th>\n",
       "    </tr>\n",
       "  </thead>\n",
       "  <tbody>\n",
       "    <tr>\n",
       "      <th>2019-09-01 00:00:00</th>\n",
       "      <td>4318008082</td>\n",
       "      <td>1</td>\n",
       "      <td>False</td>\n",
       "      <td>Si</td>\n",
       "      <td>45.482284</td>\n",
       "      <td>9.189676</td>\n",
       "    </tr>\n",
       "    <tr>\n",
       "      <th>2019-09-01 00:00:00</th>\n",
       "      <td>4118006723</td>\n",
       "      <td>2</td>\n",
       "      <td>False</td>\n",
       "      <td>Si</td>\n",
       "      <td>45.482619</td>\n",
       "      <td>9.193246</td>\n",
       "    </tr>\n",
       "    <tr>\n",
       "      <th>2019-09-01 00:00:00</th>\n",
       "      <td>1219014465</td>\n",
       "      <td>1</td>\n",
       "      <td>False</td>\n",
       "      <td>Si</td>\n",
       "      <td>45.467695</td>\n",
       "      <td>9.206261</td>\n",
       "    </tr>\n",
       "    <tr>\n",
       "      <th>2019-09-01 00:00:00</th>\n",
       "      <td>4118007115</td>\n",
       "      <td>2</td>\n",
       "      <td>False</td>\n",
       "      <td>Si</td>\n",
       "      <td>45.486551</td>\n",
       "      <td>9.186808</td>\n",
       "    </tr>\n",
       "    <tr>\n",
       "      <th>2019-09-01 00:00:00</th>\n",
       "      <td>1419015438</td>\n",
       "      <td>4</td>\n",
       "      <td>False</td>\n",
       "      <td>Si</td>\n",
       "      <td>45.483160</td>\n",
       "      <td>9.213806</td>\n",
       "    </tr>\n",
       "    <tr>\n",
       "      <th>...</th>\n",
       "      <td>...</td>\n",
       "      <td>...</td>\n",
       "      <td>...</td>\n",
       "      <td>...</td>\n",
       "      <td>...</td>\n",
       "      <td>...</td>\n",
       "    </tr>\n",
       "    <tr>\n",
       "      <th>2019-09-30 23:59:00</th>\n",
       "      <td>219011641</td>\n",
       "      <td>1</td>\n",
       "      <td>False</td>\n",
       "      <td>Si</td>\n",
       "      <td>45.481596</td>\n",
       "      <td>9.208321</td>\n",
       "    </tr>\n",
       "    <tr>\n",
       "      <th>2019-09-30 23:59:00</th>\n",
       "      <td>4318008012</td>\n",
       "      <td>2</td>\n",
       "      <td>False</td>\n",
       "      <td>Si</td>\n",
       "      <td>45.489001</td>\n",
       "      <td>9.187497</td>\n",
       "    </tr>\n",
       "    <tr>\n",
       "      <th>2019-09-30 23:59:00</th>\n",
       "      <td>5018010099</td>\n",
       "      <td>3</td>\n",
       "      <td>False</td>\n",
       "      <td>Si</td>\n",
       "      <td>45.480963</td>\n",
       "      <td>9.226391</td>\n",
       "    </tr>\n",
       "    <tr>\n",
       "      <th>2019-09-30 23:59:00</th>\n",
       "      <td>4318007618</td>\n",
       "      <td>1</td>\n",
       "      <td>False</td>\n",
       "      <td>Si</td>\n",
       "      <td>45.479677</td>\n",
       "      <td>9.206429</td>\n",
       "    </tr>\n",
       "    <tr>\n",
       "      <th>2019-09-30 23:59:00</th>\n",
       "      <td>519011966</td>\n",
       "      <td>1</td>\n",
       "      <td>False</td>\n",
       "      <td>Si</td>\n",
       "      <td>45.474754</td>\n",
       "      <td>9.220861</td>\n",
       "    </tr>\n",
       "  </tbody>\n",
       "</table>\n",
       "<p>661483 rows × 6 columns</p>\n",
       "</div>"
      ],
      "text/plain": [
       "                     bin_serial  bin_level  occluded outdoor   latitude  \\\n",
       "detected_at                                                               \n",
       "2019-09-01 00:00:00  4318008082          1     False      Si  45.482284   \n",
       "2019-09-01 00:00:00  4118006723          2     False      Si  45.482619   \n",
       "2019-09-01 00:00:00  1219014465          1     False      Si  45.467695   \n",
       "2019-09-01 00:00:00  4118007115          2     False      Si  45.486551   \n",
       "2019-09-01 00:00:00  1419015438          4     False      Si  45.483160   \n",
       "...                         ...        ...       ...     ...        ...   \n",
       "2019-09-30 23:59:00   219011641          1     False      Si  45.481596   \n",
       "2019-09-30 23:59:00  4318008012          2     False      Si  45.489001   \n",
       "2019-09-30 23:59:00  5018010099          3     False      Si  45.480963   \n",
       "2019-09-30 23:59:00  4318007618          1     False      Si  45.479677   \n",
       "2019-09-30 23:59:00   519011966          1     False      Si  45.474754   \n",
       "\n",
       "                     longitude  \n",
       "detected_at                     \n",
       "2019-09-01 00:00:00   9.189676  \n",
       "2019-09-01 00:00:00   9.193246  \n",
       "2019-09-01 00:00:00   9.206261  \n",
       "2019-09-01 00:00:00   9.186808  \n",
       "2019-09-01 00:00:00   9.213806  \n",
       "...                        ...  \n",
       "2019-09-30 23:59:00   9.208321  \n",
       "2019-09-30 23:59:00   9.187497  \n",
       "2019-09-30 23:59:00   9.226391  \n",
       "2019-09-30 23:59:00   9.206429  \n",
       "2019-09-30 23:59:00   9.220861  \n",
       "\n",
       "[661483 rows x 6 columns]"
      ]
     },
     "execution_count": 3,
     "metadata": {},
     "output_type": "execute_result"
    }
   ],
   "source": [
    "data = load_data(config.data.file_path)\n",
    "data = data[config.data.period.start_date : config.data.period.end_date]\n",
    "data"
   ]
  },
  {
   "cell_type": "markdown",
   "metadata": {},
   "source": [
    "## Configurations"
   ]
  },
  {
   "cell_type": "code",
   "execution_count": 4,
   "metadata": {},
   "outputs": [],
   "source": [
    "# Clustering parameters\n",
    "clustering_kwargs = {\n",
    "    'max_size': 200,\n",
    "    'balanced': False, # same number of bins in every cluster?\n",
    "    'distance': lambda p1, p2: slender_distance(p1, p2, depot, 1, 0), # function to use for clustering creation\n",
    "}\n",
    "\n",
    "# Routing parameters\n",
    "routing_kwargs = {\n",
    "    'distance_function': haversine,\n",
    "    'vehicle_capacities': 200,\n",
    "    'num_vehicles': 1, # routing computed for one cluster at a time\n",
    "}\n",
    "\n",
    "# Final configuration\n",
    "SC3_config = {\n",
    "    'cluster_class': AdjustedKMeans,\n",
    "    'cluster_kwargs': clustering_kwargs,\n",
    "    'graph_class': GoogleRouting,\n",
    "    'graph_kwargs': routing_kwargs,\n",
    "}"
   ]
  },
  {
   "cell_type": "markdown",
   "metadata": {},
   "source": [
    "## Simulation"
   ]
  },
  {
   "cell_type": "code",
   "execution_count": 5,
   "metadata": {},
   "outputs": [
    {
     "name": "stdout",
     "output_type": "stream",
     "text": [
      "# Simulation #\n",
      "Shifts executed: 120.\n",
      "Total distance: 17675.593510000002 km.\n",
      "Bins emptied: 130845.\n",
      "Vehicles involved: 709.\n"
     ]
    }
   ],
   "source": [
    "simulation = Simulation(depot, SC3_config, window_size=6, max_size=200, filter_function=filter_by_level, filter_kwargs={})\n",
    "routes = simulation.compute_simulation(data, start_date, end_date, speed=30, emp_time=60, debug=False)\n",
    "simulation.print_simulation()\n",
    "simulation.to_csv('output/SC3.csv')"
   ]
  }
 ],
 "metadata": {
  "interpreter": {
   "hash": "b4edde9017104a03036cc62142b4c4a88cfee967b52c4110898afedb5ec92ab3"
  },
  "kernelspec": {
   "display_name": "Python 3.8.10 64-bit ('base': conda)",
   "name": "python3"
  },
  "language_info": {
   "name": "python",
   "version": "3.8.10"
  }
 },
 "nbformat": 4,
 "nbformat_minor": 4
}
